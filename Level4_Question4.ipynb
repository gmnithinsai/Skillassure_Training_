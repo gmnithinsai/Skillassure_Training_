{
 "cells": [
  {
   "cell_type": "markdown",
   "id": "92723d57",
   "metadata": {},
   "source": [
    "## Level 4 Question 4"
   ]
  },
  {
   "cell_type": "markdown",
   "id": "55cda918",
   "metadata": {},
   "source": [
    "Acept the item code, description, qty and price of an item. Compute the total for the item. a. Accept the user’s choice.  \n",
    "If the choice is ‘y’ then accept the next set of inputs for a new item and compute the total.  \n",
    "In this manner, compute the grand total for all the items purchased by the customer.  \n",
    "\n",
    "a.\tb. If the grand total is more than Rs. 10,000/‐ then, the customer is allowed a discount of 10%.  \n",
    "\n",
    "b.\tc. If the grand total is less than Rs. 1,000/‐ and the customer chooses to pay by card, then a surcharge of 2.5% is levied on the grand total.  \n",
    "\n",
    "c.\td. Display the grand total for the customer in number form and in words  \n"
   ]
  },
  {
   "cell_type": "code",
   "execution_count": 5,
   "id": "372835d1",
   "metadata": {
    "scrolled": true
   },
   "outputs": [
    {
     "name": "stdout",
     "output_type": "stream",
     "text": [
      "Requirement already satisfied: num2words in c:\\users\\admin\\anaconda3\\lib\\site-packages (0.5.10)Note: you may need to restart the kernel to use updated packages.\n",
      "\n",
      "Requirement already satisfied: docopt>=0.6.2 in c:\\users\\admin\\anaconda3\\lib\\site-packages (from num2words) (0.6.2)\n"
     ]
    }
   ],
   "source": [
    "pip install num2words"
   ]
  },
  {
   "cell_type": "code",
   "execution_count": 7,
   "id": "620fd905",
   "metadata": {},
   "outputs": [
    {
     "name": "stdout",
     "output_type": "stream",
     "text": [
      "Enter item code: e33\n",
      "Enter description: edible\n",
      "Enter quantity: 4\n",
      "Enter price: 500\n",
      "Continue shopping choose y/n : y\n",
      "Enter item code: ty444\n",
      "Enter descriptionedible\n",
      "Enter quantity: 60\n",
      "Enter price: 100\n",
      "Continue shopping choose y/n : n\n",
      "paying through card y/n: y\n",
      "Total Price:  8000.0\n",
      "eight thousand only\n",
      "Thanks for shopping, Have a nice day _/\\_\n"
     ]
    }
   ],
   "source": [
    "from num2words import num2words\n",
    "\n",
    "item_code = []\n",
    "descr = []\n",
    "qty = []\n",
    "price = []\n",
    "\n",
    "item_code.append(input('Enter item code: '))\n",
    "descr.append(input('Enter description: '))\n",
    "qty.append(int(input('Enter quantity: ')))\n",
    "price.append(float(input('Enter price: ')))\n",
    "\n",
    "choice = input('Continue shopping choose y/n : ')\n",
    "while choice == 'y':\n",
    "    item_code.append(input('Enter item code: '))\n",
    "    descr.append(input('Enter description'))\n",
    "    qty.append(int(input('Enter quantity: ')))\n",
    "    price.append(float(input('Enter price: ')))\n",
    "\n",
    "    choice = input('Continue shopping choose y/n : ')\n",
    "\n",
    "product_price = []\n",
    "for i,j in zip(qty, price):\n",
    "    product_price.append(i*j)\n",
    "gross_total = sum(product_price)\n",
    "\n",
    "payment_mode = input('paying through card y/n: ')\n",
    "\n",
    "if gross_total >= 10000:\n",
    "    print('Total price : ',gross_total*0.9)\n",
    "    print(num2words(gross_total*0.9),'only')\n",
    "elif payment_mode == 'y' and gross_total <= 1000 :\n",
    "    print('Total Price: ', gross_total*1.025)\n",
    "    print(num2words(gross_total*1.025),'only')\n",
    "else:\n",
    "    print('Total Price: ', gross_total)\n",
    "    print(num2words(gross_total),'only')\n",
    "    \n",
    "\n",
    "\n",
    "print('Thanks for shopping, Have a nice day _/\\_')\n",
    "\n",
    "    "
   ]
  },
  {
   "cell_type": "code",
   "execution_count": null,
   "id": "f1e89f61",
   "metadata": {},
   "outputs": [],
   "source": []
  }
 ],
 "metadata": {
  "kernelspec": {
   "display_name": "Python 3",
   "language": "python",
   "name": "python3"
  },
  "language_info": {
   "codemirror_mode": {
    "name": "ipython",
    "version": 3
   },
   "file_extension": ".py",
   "mimetype": "text/x-python",
   "name": "python",
   "nbconvert_exporter": "python",
   "pygments_lexer": "ipython3",
   "version": "3.8.5"
  }
 },
 "nbformat": 4,
 "nbformat_minor": 5
}
